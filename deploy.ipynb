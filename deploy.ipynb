{
 "cells": [
  {
   "cell_type": "markdown",
   "metadata": {},
   "source": [
    "# Architecture"
   ]
  },
  {
   "cell_type": "markdown",
   "metadata": {},
   "source": [
    "<img src=\"./image.png\">"
   ]
  },
  {
   "cell_type": "markdown",
   "metadata": {},
   "source": [
    "# Setup"
   ]
  },
  {
   "cell_type": "code",
   "execution_count": 2,
   "metadata": {},
   "outputs": [
    {
     "name": "stdout",
     "output_type": "stream",
     "text": [
      "/opt/conda/lib/python3.7/site-packages/secretstorage/dhcrypto.py:16: CryptographyDeprecationWarning: int_from_bytes is deprecated, use int.from_bytes instead\n",
      "  from cryptography.utils import int_from_bytes\n",
      "/opt/conda/lib/python3.7/site-packages/secretstorage/util.py:25: CryptographyDeprecationWarning: int_from_bytes is deprecated, use int.from_bytes instead\n",
      "  from cryptography.utils import int_from_bytes\n",
      "Requirement already satisfied: sagemaker==2.42.0 in /opt/conda/lib/python3.7/site-packages (2.42.0)\n",
      "Requirement already satisfied: pandas in /opt/conda/lib/python3.7/site-packages (from sagemaker==2.42.0) (1.0.1)\n",
      "Requirement already satisfied: google-pasta in /opt/conda/lib/python3.7/site-packages (from sagemaker==2.42.0) (0.2.0)\n",
      "Requirement already satisfied: protobuf>=3.1 in /opt/conda/lib/python3.7/site-packages (from sagemaker==2.42.0) (3.17.0)\n",
      "Requirement already satisfied: packaging>=20.0 in /opt/conda/lib/python3.7/site-packages (from sagemaker==2.42.0) (20.1)\n",
      "Requirement already satisfied: boto3>=1.16.32 in /opt/conda/lib/python3.7/site-packages (from sagemaker==2.42.0) (1.17.74)\n",
      "Requirement already satisfied: pathos in /opt/conda/lib/python3.7/site-packages (from sagemaker==2.42.0) (0.2.7)\n",
      "Requirement already satisfied: importlib-metadata>=1.4.0 in /opt/conda/lib/python3.7/site-packages (from sagemaker==2.42.0) (1.5.0)\n",
      "Requirement already satisfied: numpy>=1.9.0 in /opt/conda/lib/python3.7/site-packages (from sagemaker==2.42.0) (1.20.3)\n",
      "Requirement already satisfied: protobuf3-to-dict>=0.1.5 in /opt/conda/lib/python3.7/site-packages (from sagemaker==2.42.0) (0.1.5)\n",
      "Requirement already satisfied: attrs in /opt/conda/lib/python3.7/site-packages (from sagemaker==2.42.0) (19.3.0)\n",
      "Requirement already satisfied: smdebug-rulesconfig==1.0.1 in /opt/conda/lib/python3.7/site-packages (from sagemaker==2.42.0) (1.0.1)\n",
      "Requirement already satisfied: s3transfer<0.5.0,>=0.4.0 in /opt/conda/lib/python3.7/site-packages (from boto3>=1.16.32->sagemaker==2.42.0) (0.4.2)\n",
      "Requirement already satisfied: botocore<1.21.0,>=1.20.74 in /opt/conda/lib/python3.7/site-packages (from boto3>=1.16.32->sagemaker==2.42.0) (1.20.74)\n",
      "Requirement already satisfied: jmespath<1.0.0,>=0.7.1 in /opt/conda/lib/python3.7/site-packages (from boto3>=1.16.32->sagemaker==2.42.0) (0.10.0)\n",
      "Requirement already satisfied: python-dateutil<3.0.0,>=2.1 in /opt/conda/lib/python3.7/site-packages (from botocore<1.21.0,>=1.20.74->boto3>=1.16.32->sagemaker==2.42.0) (2.8.1)\n",
      "Requirement already satisfied: urllib3<1.27,>=1.25.4 in /opt/conda/lib/python3.7/site-packages (from botocore<1.21.0,>=1.20.74->boto3>=1.16.32->sagemaker==2.42.0) (1.26.4)\n",
      "Requirement already satisfied: zipp>=0.5 in /opt/conda/lib/python3.7/site-packages (from importlib-metadata>=1.4.0->sagemaker==2.42.0) (2.2.0)\n",
      "Requirement already satisfied: six in /opt/conda/lib/python3.7/site-packages (from packaging>=20.0->sagemaker==2.42.0) (1.14.0)\n",
      "Requirement already satisfied: pyparsing>=2.0.2 in /opt/conda/lib/python3.7/site-packages (from packaging>=20.0->sagemaker==2.42.0) (2.4.6)\n",
      "Requirement already satisfied: pytz>=2017.2 in /opt/conda/lib/python3.7/site-packages (from pandas->sagemaker==2.42.0) (2019.3)\n",
      "Requirement already satisfied: dill>=0.3.3 in /opt/conda/lib/python3.7/site-packages (from pathos->sagemaker==2.42.0) (0.3.3)\n",
      "Requirement already satisfied: pox>=0.2.9 in /opt/conda/lib/python3.7/site-packages (from pathos->sagemaker==2.42.0) (0.2.9)\n",
      "Requirement already satisfied: ppft>=1.6.6.3 in /opt/conda/lib/python3.7/site-packages (from pathos->sagemaker==2.42.0) (1.6.6.3)\n",
      "Requirement already satisfied: multiprocess>=0.70.11 in /opt/conda/lib/python3.7/site-packages (from pathos->sagemaker==2.42.0) (0.70.11.1)\n",
      "\u001b[33mWARNING: Running pip as root will break packages and permissions. You should install packages reliably by using venv: https://pip.pypa.io/warnings/venv\u001b[0m\n",
      "\u001b[33mWARNING: You are using pip version 21.1.1; however, version 21.1.2 is available.\n",
      "You should consider upgrading via the '/opt/conda/bin/python -m pip install --upgrade pip' command.\u001b[0m\n",
      "/opt/conda/lib/python3.7/site-packages/secretstorage/dhcrypto.py:16: CryptographyDeprecationWarning: int_from_bytes is deprecated, use int.from_bytes instead\n",
      "  from cryptography.utils import int_from_bytes\n",
      "/opt/conda/lib/python3.7/site-packages/secretstorage/util.py:25: CryptographyDeprecationWarning: int_from_bytes is deprecated, use int.from_bytes instead\n",
      "  from cryptography.utils import int_from_bytes\n",
      "Requirement already satisfied: sagemaker-experiments in /opt/conda/lib/python3.7/site-packages (0.1.33)\n",
      "Requirement already satisfied: boto3>=1.16.27 in /opt/conda/lib/python3.7/site-packages (from sagemaker-experiments) (1.17.74)\n",
      "Requirement already satisfied: botocore<1.21.0,>=1.20.74 in /opt/conda/lib/python3.7/site-packages (from boto3>=1.16.27->sagemaker-experiments) (1.20.74)\n",
      "Requirement already satisfied: jmespath<1.0.0,>=0.7.1 in /opt/conda/lib/python3.7/site-packages (from boto3>=1.16.27->sagemaker-experiments) (0.10.0)\n",
      "Requirement already satisfied: s3transfer<0.5.0,>=0.4.0 in /opt/conda/lib/python3.7/site-packages (from boto3>=1.16.27->sagemaker-experiments) (0.4.2)\n",
      "Requirement already satisfied: urllib3<1.27,>=1.25.4 in /opt/conda/lib/python3.7/site-packages (from botocore<1.21.0,>=1.20.74->boto3>=1.16.27->sagemaker-experiments) (1.26.4)\n",
      "Requirement already satisfied: python-dateutil<3.0.0,>=2.1 in /opt/conda/lib/python3.7/site-packages (from botocore<1.21.0,>=1.20.74->boto3>=1.16.27->sagemaker-experiments) (2.8.1)\n",
      "Requirement already satisfied: six>=1.5 in /opt/conda/lib/python3.7/site-packages (from python-dateutil<3.0.0,>=2.1->botocore<1.21.0,>=1.20.74->boto3>=1.16.27->sagemaker-experiments) (1.14.0)\n",
      "\u001b[33mWARNING: Running pip as root will break packages and permissions. You should install packages reliably by using venv: https://pip.pypa.io/warnings/venv\u001b[0m\n",
      "\u001b[33mWARNING: You are using pip version 21.1.1; however, version 21.1.2 is available.\n",
      "You should consider upgrading via the '/opt/conda/bin/python -m pip install --upgrade pip' command.\u001b[0m\n",
      "/opt/conda/lib/python3.7/site-packages/secretstorage/dhcrypto.py:16: CryptographyDeprecationWarning: int_from_bytes is deprecated, use int.from_bytes instead\n",
      "  from cryptography.utils import int_from_bytes\n",
      "/opt/conda/lib/python3.7/site-packages/secretstorage/util.py:25: CryptographyDeprecationWarning: int_from_bytes is deprecated, use int.from_bytes instead\n",
      "  from cryptography.utils import int_from_bytes\n",
      "Requirement already satisfied: xgboost==1.3.3 in /opt/conda/lib/python3.7/site-packages (1.3.3)\n",
      "Requirement already satisfied: numpy in /opt/conda/lib/python3.7/site-packages (from xgboost==1.3.3) (1.20.3)\n",
      "Requirement already satisfied: scipy in /opt/conda/lib/python3.7/site-packages (from xgboost==1.3.3) (1.4.1)\n",
      "\u001b[33mWARNING: Running pip as root will break packages and permissions. You should install packages reliably by using venv: https://pip.pypa.io/warnings/venv\u001b[0m\n",
      "\u001b[33mWARNING: You are using pip version 21.1.1; however, version 21.1.2 is available.\n",
      "You should consider upgrading via the '/opt/conda/bin/python -m pip install --upgrade pip' command.\u001b[0m\n"
     ]
    }
   ],
   "source": [
    "import sys\n",
    "!{sys.executable} -m pip install sagemaker==2.42.0 -U\n",
    "!{sys.executable} -m pip install sagemaker-experiments\n",
    "!{sys.executable} -m pip install xgboost==1.3.3"
   ]
  },
  {
   "cell_type": "code",
   "execution_count": 3,
   "metadata": {},
   "outputs": [],
   "source": [
    "import boto3\n",
    "import sagemaker\n",
    "\n",
    "sess = boto3.Session()\n",
    "#<!-- sm = sess.client('sagemaker') -->\n",
    "\n",
    "# Execution role\n",
    "role = sagemaker.get_execution_role()\n",
    "\n",
    "# Session variables\n",
    "region = sess.region_name\n",
    "account_id = sess.client('sts', region_name=region).get_caller_identity()[\"Account\"]"
   ]
  },
  {
   "cell_type": "code",
   "execution_count": 6,
   "metadata": {},
   "outputs": [
    {
     "data": {
      "text/plain": [
       "'0.22.1'"
      ]
     },
     "execution_count": 6,
     "metadata": {},
     "output_type": "execute_result"
    }
   ],
   "source": [
    "import sklearn \n",
    "sklearn.__version__"
   ]
  },
  {
   "cell_type": "code",
   "execution_count": 15,
   "metadata": {},
   "outputs": [
    {
     "data": {
      "text/plain": [
       "'s3://black-belt-ml-us-east-2-257581564575/model/model.tar.gz'"
      ]
     },
     "execution_count": 15,
     "metadata": {},
     "output_type": "execute_result"
    }
   ],
   "source": [
    "# Upload the data to S3 \n",
    "import tarfile\n",
    "import os.path\n",
    "\n",
    "source_dir = 'opt/ml/model.pkl'\n",
    "\n",
    "with tarfile.open('model.tar.gz', \"w:gz\") as tar:\n",
    "    tar.add(source_dir, arcname=os.path.basename(source_dir))\n",
    "    \n",
    "bucket = 'black-belt-ml-us-east-2-257581564575'\n",
    "local_model_path = \"model.tar.gz\"\n",
    "s3uri = sagemaker.s3.S3Uploader.upload(local_model_path, f's3://{bucket}/model')\n",
    "s3uri"
   ]
  },
  {
   "cell_type": "code",
   "execution_count": 163,
   "metadata": {},
   "outputs": [],
   "source": [
    "import io\n",
    "import os\n",
    "import json\n",
    "import re\n",
    "import time\n",
    "from time import strftime, gmtime\n",
    "from IPython import display \n",
    "from IPython.display import display as dis\n",
    "\n",
    "import pandas as pd\n",
    "import numpy as np\n",
    "import matplotlib.pyplot as plt\n",
    "\n",
    "from sagemaker.inputs import TrainingInput\n",
    "from sagemaker.serializers import CSVSerializer\n",
    "\n",
    "import pprint\n",
    "from time import strftime, gmtime\n",
    "\n",
    "from sagemaker.debugger import rule_configs, Rule, DebuggerHookConfig\n",
    "from smexperiments.experiment import Experiment\n",
    "from smexperiments.trial import Trial\n",
    "from smexperiments.trial_component import TrialComponent\n",
    "from sagemaker.inputs import TrainingInput\n",
    "\n",
    "sm_sess = sagemaker.session.Session()\n",
    "sm = boto3.client('sagemaker')"
   ]
  },
  {
   "cell_type": "code",
   "execution_count": 164,
   "metadata": {},
   "outputs": [
    {
     "name": "stdout",
     "output_type": "stream",
     "text": [
      "EndpointName = xgboost-wine-2021-06-25-07-35-45\n"
     ]
    }
   ],
   "source": [
    "data_capture_prefix = 'xgb-baseline/datacapture'\n",
    "\n",
    "endpoint_name = \"xgboost-wine-\" + strftime(\"%Y-%m-%d-%H-%M-%S\", gmtime())\n",
    "print(\"EndpointName = {}\".format(endpoint_name))"
   ]
  },
  {
   "cell_type": "code",
   "execution_count": 165,
   "metadata": {},
   "outputs": [
    {
     "name": "stdout",
     "output_type": "stream",
     "text": [
      "Overwriting inference.py\n"
     ]
    }
   ],
   "source": [
    "%%writefile inference.py\n",
    "\n",
    "import os\n",
    "import json\n",
    "import joblib\n",
    "import pandas as pd\n",
    "\n",
    "# Same as in the training script\n",
    "def model_fn(model_dir):\n",
    "    \"\"\"Load a model. For XGBoost Framework, a default function to load a model is not provided.\n",
    "    Users should provide customized model_fn() in script.\n",
    "    Args:\n",
    "        model_dir: a directory where model is saved.\n",
    "    Returns:\n",
    "        A XGBoost model.\n",
    "        XGBoost model format type.\n",
    "    \"\"\"\n",
    "    model_files = (file for file in os.listdir(model_dir) if os.path.isfile(os.path.join(model_dir, file)))\n",
    "    model_file = next(model_files)\n",
    "    \n",
    "    booster = joblib.load(os.path.join(model_dir, model_file))\n",
    "    \n",
    "    return booster \n",
    "\n",
    "\n",
    "def input_fn(request_body, request_content_type):\n",
    "    \"\"\"\n",
    "    The SageMaker XGBoost model server receives the request data body and the content type,\n",
    "    and invokes the `input_fn`.\n",
    "    The input_fn that just validates request_content_type and prints\n",
    "    \"\"\"\n",
    "    print(request_body)\n",
    "    \n",
    "    user_input = json.loads(request_body)[\"input\"]\n",
    "\n",
    "    model_input = pd.DataFrame([user_input], columns=['country', 'description', 'designation', 'price', 'province',\n",
    "           'region_1', 'region_2', 'taster_name', 'taster_twitter_handle', 'title',\n",
    "           'variety', 'winery'])\n",
    "    \n",
    "    return model_input\n",
    "  \n",
    "\n",
    "def predict_fn(input_object, model):\n",
    "    \"\"\"\n",
    "    SageMaker XGBoost model server invokes `predict_fn` on the return value of `input_fn`.\n",
    "    \"\"\"\n",
    "    print('Running predictions...')\n",
    "    return model.predict(input_object)[0]\n",
    "\n",
    "\n",
    "def output_fn(prediction, response_content_type):\n",
    "    \"\"\"\n",
    "    After invoking predict_fn, the model server invokes `output_fn`.\n",
    "    An output_fn that just adds a column to the output and validates response_content_type\n",
    "    \"\"\"    \n",
    "    print('prediction', prediction)\n",
    "    \n",
    "    output = { \n",
    "                \"output\": round(prediction) \n",
    "             }\n",
    "    \n",
    "    return  json.dumps(output)\n",
    "            "
   ]
  },
  {
   "cell_type": "code",
   "execution_count": 166,
   "metadata": {},
   "outputs": [
    {
     "name": "stderr",
     "output_type": "stream",
     "text": [
      "INFO:sagemaker.image_uris:Same images used for training and inference. Defaulting to image scope: inference.\n",
      "INFO:sagemaker.image_uris:Ignoring unnecessary instance type: None.\n"
     ]
    },
    {
     "data": {
      "text/plain": [
       "'257758044811.dkr.ecr.us-east-2.amazonaws.com/sagemaker-xgboost:1.3-1'"
      ]
     },
     "execution_count": 166,
     "metadata": {},
     "output_type": "execute_result"
    }
   ],
   "source": [
    "framework_version = '1.2-2'\n",
    "docker_image_name = sagemaker.image_uris.retrieve(framework='xgboost', region='us-east-2', version=framework_version)\n",
    "\n",
    "# Workaround while versions are not updated in SM SDK\n",
    "framework_version = '1.3-1'\n",
    "docker_image_name = docker_image_name[:-5] + framework_version\n",
    "docker_image_name"
   ]
  },
  {
   "cell_type": "code",
   "execution_count": 167,
   "metadata": {},
   "outputs": [
    {
     "name": "stderr",
     "output_type": "stream",
     "text": [
      "INFO:sagemaker:Creating model with name: sagemaker-xgboost-2021-06-25-07-35-53-205\n",
      "INFO:sagemaker:Creating endpoint with name xgboost-wine-2021-06-25-07-35-45\n"
     ]
    },
    {
     "name": "stdout",
     "output_type": "stream",
     "text": [
      "-------------!"
     ]
    }
   ],
   "source": [
    "from sagemaker.xgboost.model import XGBoostModel\n",
    "\n",
    "script = 'inference.py'\n",
    "\n",
    "xgb_inference_model = XGBoostModel(\n",
    "    entry_point='inference.py',\n",
    "    model_data=s3uri,\n",
    "    role=role,\n",
    "    image_uri=docker_image_name,\n",
    "    framework_version=\"1.3-1\",\n",
    "    py_version=\"py3\"\n",
    ")\n",
    "\n",
    "\n",
    "predictor = xgb_inference_model.deploy(initial_instance_count=1, \n",
    "                                        instance_type='ml.m4.xlarge',\n",
    "                                        endpoint_name=endpoint_name,\n",
    "                                        data_capture_config=DataCaptureConfig(\n",
    "                                            enable_capture=True,\n",
    "                                            sampling_percentage=100,\n",
    "                                            destination_s3_uri='s3://{}/{}'.format(bucket, data_capture_prefix)\n",
    "                                        )\n",
    "                                       )\n"
   ]
  },
  {
   "cell_type": "markdown",
   "metadata": {},
   "source": [
    "# Cost"
   ]
  },
  {
   "cell_type": "markdown",
   "metadata": {},
   "source": [
    "Deploy:\n",
    "- instância: 1 x ml.m4.xlarge\n",
    "- preço unitário: 0.24 USD/hora\n",
    "\n",
    "Test de carga:\n",
    "- 1000 req/min\n",
    "    \n",
    "Custo total (1000 reg/sec):\n",
    "- 0.24 USD/hora * 60 = 14.40 USD/hora"
   ]
  },
  {
   "cell_type": "code",
   "execution_count": null,
   "metadata": {},
   "outputs": [],
   "source": []
  }
 ],
 "metadata": {
  "instance_type": "ml.t3.medium",
  "kernelspec": {
   "display_name": "Python 3",
   "language": "python",
   "name": "python3"
  },
  "language_info": {
   "codemirror_mode": {
    "name": "ipython",
    "version": 3
   },
   "file_extension": ".py",
   "mimetype": "text/x-python",
   "name": "python",
   "nbconvert_exporter": "python",
   "pygments_lexer": "ipython3",
   "version": "3.7.10"
  }
 },
 "nbformat": 4,
 "nbformat_minor": 4
}
