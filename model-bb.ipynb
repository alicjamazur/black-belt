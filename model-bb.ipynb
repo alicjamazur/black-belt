{
 "cells": [
  {
   "cell_type": "markdown",
   "metadata": {},
   "source": [
    "# Wine Score Prediction"
   ]
  },
  {
   "cell_type": "markdown",
   "metadata": {},
   "source": [
    "## Setup"
   ]
  },
  {
   "cell_type": "markdown",
   "metadata": {},
   "source": [
    "Import of necessary Python libraries."
   ]
  },
  {
   "cell_type": "code",
   "execution_count": 141,
   "metadata": {},
   "outputs": [
    {
     "name": "stdout",
     "output_type": "stream",
     "text": [
      "/opt/conda/lib/python3.7/site-packages/secretstorage/dhcrypto.py:16: CryptographyDeprecationWarning: int_from_bytes is deprecated, use int.from_bytes instead\n",
      "  from cryptography.utils import int_from_bytes\n",
      "/opt/conda/lib/python3.7/site-packages/secretstorage/util.py:25: CryptographyDeprecationWarning: int_from_bytes is deprecated, use int.from_bytes instead\n",
      "  from cryptography.utils import int_from_bytes\n",
      "Requirement already satisfied: xgboost in /opt/conda/lib/python3.7/site-packages (1.4.2)\n",
      "Requirement already satisfied: scipy in /opt/conda/lib/python3.7/site-packages (from xgboost) (1.4.1)\n",
      "Requirement already satisfied: numpy in /opt/conda/lib/python3.7/site-packages (from xgboost) (1.20.3)\n",
      "\u001b[33mWARNING: Running pip as root will break packages and permissions. You should install packages reliably by using venv: https://pip.pypa.io/warnings/venv\u001b[0m\n",
      "\u001b[33mWARNING: You are using pip version 21.1.1; however, version 21.1.2 is available.\n",
      "You should consider upgrading via the '/opt/conda/bin/python -m pip install --upgrade pip' command.\u001b[0m\n"
     ]
    }
   ],
   "source": [
    "!python -m pip install xgboost"
   ]
  },
  {
   "cell_type": "code",
   "execution_count": 2,
   "metadata": {},
   "outputs": [],
   "source": [
    "import pandas as pd\n",
    "import numpy as np\n",
    "import matplotlib.pyplot as plt\n",
    "import sklearn\n",
    "import seaborn as sns\n",
    "from scipy import stats\n",
    "from IPython.display import display\n",
    "from sklearn.model_selection import train_test_split\n",
    "from sklearn.preprocessing import OneHotEncoder, StandardScaler, OrdinalEncoder, RobustScaler, QuantileTransformer \n",
    "from sklearn.decomposition import PCA, TruncatedSVD\n",
    "from sklearn.linear_model import LogisticRegression\n",
    "from sklearn.pipeline import Pipeline\n",
    "from sklearn.compose import ColumnTransformer\n",
    "from sklearn.feature_selection import SelectKBest, chi2, f_classif, SelectFromModel, mutual_info_classif, RFE\n",
    "from sklearn.ensemble import RandomForestRegressor\n",
    "from xgboost import XGBClassifier, XGBRegressor\n",
    "from sklearn.svm import LinearSVC, SVC\n",
    "from sklearn.model_selection import cross_val_score, cross_validate\n",
    "from sklearn.neighbors import KNeighborsClassifier\n",
    "from sklearn.naive_bayes import GaussianNB\n",
    "from sklearn.metrics import confusion_matrix, roc_auc_score, accuracy_score, precision_recall_curve, auc, average_precision_score, f1_score, roc_curve\n",
    "from sklearn.decomposition import PCA\n",
    "import xgboost as xgb\n",
    "sns.set()\n",
    "from sklearn.preprocessing import PowerTransformer, MinMaxScaler, KBinsDiscretizer\n",
    "from scipy.stats import boxcox\n",
    "from sklearn.ensemble import IsolationForest\n",
    "\n",
    "seed = 42"
   ]
  },
  {
   "cell_type": "code",
   "execution_count": 3,
   "metadata": {},
   "outputs": [],
   "source": [
    "# optional: improves readibility by displaying all columns \n",
    "pd.set_option(\"display.max_columns\", None)\n",
    "pd.options.display.float_format = \"{:.2f}\".format\n",
    "%matplotlib inline"
   ]
  },
  {
   "cell_type": "code",
   "execution_count": 4,
   "metadata": {},
   "outputs": [],
   "source": [
    "df = pd.read_csv(\"wines.csv\")"
   ]
  },
  {
   "cell_type": "code",
   "execution_count": 5,
   "metadata": {},
   "outputs": [
    {
     "data": {
      "text/html": [
       "<div>\n",
       "<style scoped>\n",
       "    .dataframe tbody tr th:only-of-type {\n",
       "        vertical-align: middle;\n",
       "    }\n",
       "\n",
       "    .dataframe tbody tr th {\n",
       "        vertical-align: top;\n",
       "    }\n",
       "\n",
       "    .dataframe thead th {\n",
       "        text-align: right;\n",
       "    }\n",
       "</style>\n",
       "<table border=\"1\" class=\"dataframe\">\n",
       "  <thead>\n",
       "    <tr style=\"text-align: right;\">\n",
       "      <th></th>\n",
       "      <th>country</th>\n",
       "      <th>description</th>\n",
       "      <th>designation</th>\n",
       "      <th>points</th>\n",
       "      <th>price</th>\n",
       "      <th>province</th>\n",
       "      <th>region_1</th>\n",
       "      <th>region_2</th>\n",
       "      <th>taster_name</th>\n",
       "      <th>taster_twitter_handle</th>\n",
       "      <th>title</th>\n",
       "      <th>variety</th>\n",
       "      <th>winery</th>\n",
       "    </tr>\n",
       "  </thead>\n",
       "  <tbody>\n",
       "    <tr>\n",
       "      <th>0</th>\n",
       "      <td>Spain</td>\n",
       "      <td>Unusual aromas of cardamom and cinnamon accent...</td>\n",
       "      <td>Vendimia Seleccionada</td>\n",
       "      <td>86</td>\n",
       "      <td>13.00</td>\n",
       "      <td>Northern Spain</td>\n",
       "      <td>Rioja</td>\n",
       "      <td>NaN</td>\n",
       "      <td>Michael Schachner</td>\n",
       "      <td>@wineschach</td>\n",
       "      <td>Bodegas Riolanc 2012 Vendimia Seleccionada  (R...</td>\n",
       "      <td>Tempranillo Blend</td>\n",
       "      <td>Bodegas Riolanc</td>\n",
       "    </tr>\n",
       "    <tr>\n",
       "      <th>1</th>\n",
       "      <td>US</td>\n",
       "      <td>A full load of berry fruit in the nose, black-...</td>\n",
       "      <td>NaN</td>\n",
       "      <td>92</td>\n",
       "      <td>78.00</td>\n",
       "      <td>California</td>\n",
       "      <td>Napa Valley</td>\n",
       "      <td>Napa</td>\n",
       "      <td>NaN</td>\n",
       "      <td>NaN</td>\n",
       "      <td>Clark-Claudon 1997 Cabernet Sauvignon (Napa Va...</td>\n",
       "      <td>Cabernet Sauvignon</td>\n",
       "      <td>Clark-Claudon</td>\n",
       "    </tr>\n",
       "    <tr>\n",
       "      <th>2</th>\n",
       "      <td>Canada</td>\n",
       "      <td>A lush fruit bowl of a wine, this brings delic...</td>\n",
       "      <td>NaN</td>\n",
       "      <td>90</td>\n",
       "      <td>19.00</td>\n",
       "      <td>British Columbia</td>\n",
       "      <td>Okanagan Valley</td>\n",
       "      <td>NaN</td>\n",
       "      <td>Paul Gregutt</td>\n",
       "      <td>@paulgwine</td>\n",
       "      <td>Tinhorn Creek 2013 Pinot Gris (Okanagan Valley)</td>\n",
       "      <td>Pinot Gris</td>\n",
       "      <td>Tinhorn Creek</td>\n",
       "    </tr>\n",
       "    <tr>\n",
       "      <th>3</th>\n",
       "      <td>US</td>\n",
       "      <td>This offers fresh flavors of pear fruit, with ...</td>\n",
       "      <td>NaN</td>\n",
       "      <td>86</td>\n",
       "      <td>12.00</td>\n",
       "      <td>Oregon</td>\n",
       "      <td>Willamette Valley</td>\n",
       "      <td>Willamette Valley</td>\n",
       "      <td>Paul Gregutt</td>\n",
       "      <td>@paulgwine</td>\n",
       "      <td>Château Bianca 2015 Pinot Gris (Willamette Val...</td>\n",
       "      <td>Pinot Gris</td>\n",
       "      <td>Château Bianca</td>\n",
       "    </tr>\n",
       "    <tr>\n",
       "      <th>4</th>\n",
       "      <td>US</td>\n",
       "      <td>This is a good Zinfandel with some special qua...</td>\n",
       "      <td>NaN</td>\n",
       "      <td>87</td>\n",
       "      <td>34.00</td>\n",
       "      <td>California</td>\n",
       "      <td>Sonoma County</td>\n",
       "      <td>Sonoma</td>\n",
       "      <td>NaN</td>\n",
       "      <td>NaN</td>\n",
       "      <td>Adobe Road 2005 Zinfandel (Sonoma County)</td>\n",
       "      <td>Zinfandel</td>\n",
       "      <td>Adobe Road</td>\n",
       "    </tr>\n",
       "  </tbody>\n",
       "</table>\n",
       "</div>"
      ],
      "text/plain": [
       "  country                                        description  \\\n",
       "0   Spain  Unusual aromas of cardamom and cinnamon accent...   \n",
       "1      US  A full load of berry fruit in the nose, black-...   \n",
       "2  Canada  A lush fruit bowl of a wine, this brings delic...   \n",
       "3      US  This offers fresh flavors of pear fruit, with ...   \n",
       "4      US  This is a good Zinfandel with some special qua...   \n",
       "\n",
       "             designation  points  price          province           region_1  \\\n",
       "0  Vendimia Seleccionada      86  13.00    Northern Spain              Rioja   \n",
       "1                    NaN      92  78.00        California        Napa Valley   \n",
       "2                    NaN      90  19.00  British Columbia    Okanagan Valley   \n",
       "3                    NaN      86  12.00            Oregon  Willamette Valley   \n",
       "4                    NaN      87  34.00        California      Sonoma County   \n",
       "\n",
       "            region_2        taster_name taster_twitter_handle  \\\n",
       "0                NaN  Michael Schachner           @wineschach   \n",
       "1               Napa                NaN                   NaN   \n",
       "2                NaN       Paul Gregutt           @paulgwine    \n",
       "3  Willamette Valley       Paul Gregutt           @paulgwine    \n",
       "4             Sonoma                NaN                   NaN   \n",
       "\n",
       "                                               title             variety  \\\n",
       "0  Bodegas Riolanc 2012 Vendimia Seleccionada  (R...   Tempranillo Blend   \n",
       "1  Clark-Claudon 1997 Cabernet Sauvignon (Napa Va...  Cabernet Sauvignon   \n",
       "2    Tinhorn Creek 2013 Pinot Gris (Okanagan Valley)          Pinot Gris   \n",
       "3  Château Bianca 2015 Pinot Gris (Willamette Val...          Pinot Gris   \n",
       "4          Adobe Road 2005 Zinfandel (Sonoma County)           Zinfandel   \n",
       "\n",
       "            winery  \n",
       "0  Bodegas Riolanc  \n",
       "1    Clark-Claudon  \n",
       "2    Tinhorn Creek  \n",
       "3   Château Bianca  \n",
       "4       Adobe Road  "
      ]
     },
     "execution_count": 5,
     "metadata": {},
     "output_type": "execute_result"
    }
   ],
   "source": [
    "df.head()"
   ]
  },
  {
   "cell_type": "markdown",
   "metadata": {},
   "source": [
    "## Exploratory Data Analysis"
   ]
  },
  {
   "cell_type": "markdown",
   "metadata": {},
   "source": [
    "#### Irrelevant features"
   ]
  },
  {
   "cell_type": "code",
   "execution_count": 6,
   "metadata": {},
   "outputs": [],
   "source": [
    "# df.drop([\"taster_name\", \"taster_twitter_handle\"], axis=1, inplace=True)"
   ]
  },
  {
   "cell_type": "markdown",
   "metadata": {},
   "source": [
    "#### Duplicates"
   ]
  },
  {
   "cell_type": "code",
   "execution_count": 7,
   "metadata": {},
   "outputs": [],
   "source": [
    "df.drop_duplicates(inplace=True)"
   ]
  },
  {
   "cell_type": "markdown",
   "metadata": {},
   "source": [
    "**Data types**"
   ]
  },
  {
   "cell_type": "code",
   "execution_count": 8,
   "metadata": {
    "scrolled": true
   },
   "outputs": [
    {
     "data": {
      "text/plain": [
       "points                     int64\n",
       "price                    float64\n",
       "country                   object\n",
       "description               object\n",
       "designation               object\n",
       "province                  object\n",
       "region_1                  object\n",
       "region_2                  object\n",
       "taster_name               object\n",
       "taster_twitter_handle     object\n",
       "title                     object\n",
       "variety                   object\n",
       "winery                    object\n",
       "dtype: object"
      ]
     },
     "execution_count": 8,
     "metadata": {},
     "output_type": "execute_result"
    }
   ],
   "source": [
    "df.dtypes.sort_values()"
   ]
  },
  {
   "cell_type": "markdown",
   "metadata": {},
   "source": [
    "## Univariate Statistical Analysis"
   ]
  },
  {
   "cell_type": "code",
   "execution_count": 9,
   "metadata": {},
   "outputs": [
    {
     "data": {
      "text/plain": [
       "91920"
      ]
     },
     "execution_count": 9,
     "metadata": {},
     "output_type": "execute_result"
    }
   ],
   "source": [
    "len(df)"
   ]
  },
  {
   "cell_type": "code",
   "execution_count": 10,
   "metadata": {},
   "outputs": [
    {
     "data": {
      "text/plain": [
       "country                  91874\n",
       "description              91920\n",
       "designation              65405\n",
       "points                   91920\n",
       "price                    85513\n",
       "province                 91874\n",
       "region_1                 76969\n",
       "region_2                 35784\n",
       "taster_name              72985\n",
       "taster_twitter_handle    69515\n",
       "title                    91920\n",
       "variety                  91920\n",
       "winery                   91920\n",
       "dtype: int64"
      ]
     },
     "execution_count": 10,
     "metadata": {},
     "output_type": "execute_result"
    }
   ],
   "source": [
    "df.count()"
   ]
  },
  {
   "cell_type": "markdown",
   "metadata": {},
   "source": [
    "### Basic descriptive statistic on numerical features"
   ]
  },
  {
   "cell_type": "code",
   "execution_count": 11,
   "metadata": {
    "scrolled": true
   },
   "outputs": [
    {
     "data": {
      "text/html": [
       "<div>\n",
       "<style scoped>\n",
       "    .dataframe tbody tr th:only-of-type {\n",
       "        vertical-align: middle;\n",
       "    }\n",
       "\n",
       "    .dataframe tbody tr th {\n",
       "        vertical-align: top;\n",
       "    }\n",
       "\n",
       "    .dataframe thead th {\n",
       "        text-align: right;\n",
       "    }\n",
       "</style>\n",
       "<table border=\"1\" class=\"dataframe\">\n",
       "  <thead>\n",
       "    <tr style=\"text-align: right;\">\n",
       "      <th></th>\n",
       "      <th>points</th>\n",
       "      <th>price</th>\n",
       "    </tr>\n",
       "  </thead>\n",
       "  <tbody>\n",
       "    <tr>\n",
       "      <th>count</th>\n",
       "      <td>91920.00</td>\n",
       "      <td>85513.00</td>\n",
       "    </tr>\n",
       "    <tr>\n",
       "      <th>mean</th>\n",
       "      <td>88.44</td>\n",
       "      <td>35.57</td>\n",
       "    </tr>\n",
       "    <tr>\n",
       "      <th>std</th>\n",
       "      <td>3.08</td>\n",
       "      <td>41.89</td>\n",
       "    </tr>\n",
       "    <tr>\n",
       "      <th>min</th>\n",
       "      <td>80.00</td>\n",
       "      <td>4.00</td>\n",
       "    </tr>\n",
       "    <tr>\n",
       "      <th>25%</th>\n",
       "      <td>86.00</td>\n",
       "      <td>17.00</td>\n",
       "    </tr>\n",
       "    <tr>\n",
       "      <th>50%</th>\n",
       "      <td>88.00</td>\n",
       "      <td>25.00</td>\n",
       "    </tr>\n",
       "    <tr>\n",
       "      <th>75%</th>\n",
       "      <td>91.00</td>\n",
       "      <td>42.00</td>\n",
       "    </tr>\n",
       "    <tr>\n",
       "      <th>max</th>\n",
       "      <td>100.00</td>\n",
       "      <td>3300.00</td>\n",
       "    </tr>\n",
       "  </tbody>\n",
       "</table>\n",
       "</div>"
      ],
      "text/plain": [
       "        points    price\n",
       "count 91920.00 85513.00\n",
       "mean     88.44    35.57\n",
       "std       3.08    41.89\n",
       "min      80.00     4.00\n",
       "25%      86.00    17.00\n",
       "50%      88.00    25.00\n",
       "75%      91.00    42.00\n",
       "max     100.00  3300.00"
      ]
     },
     "execution_count": 11,
     "metadata": {},
     "output_type": "execute_result"
    }
   ],
   "source": [
    "df.describe()"
   ]
  },
  {
   "cell_type": "markdown",
   "metadata": {},
   "source": [
    "### Missing values"
   ]
  },
  {
   "cell_type": "code",
   "execution_count": 12,
   "metadata": {},
   "outputs": [
    {
     "data": {
      "image/png": "[encoded data removed]",
      "text/plain": [
       "<Figure size 576x720 with 1 Axes>"
      ]
     },
     "metadata": {
      "needs_background": "light"
     },
     "output_type": "display_data"
    }
   ],
   "source": [
    "# Check for columns with missing values\n",
    "plt.figure(figsize=(8, 10))\n",
    "missing_vals = df.isnull().sum().sort_values(ascending=False) \n",
    "sns.barplot(x=missing_vals / len(df) * 100, y=missing_vals.index, orient=\"h\", color=\"mediumaquamarine\")\n",
    "plt.title(\"Missing values across features (%)\");"
   ]
  },
  {
   "cell_type": "markdown",
   "metadata": {},
   "source": [
    "### Data distribution "
   ]
  },
  {
   "cell_type": "markdown",
   "metadata": {},
   "source": [
    "**Target variable**"
   ]
  },
  {
   "cell_type": "code",
   "execution_count": 20,
   "metadata": {},
   "outputs": [
    {
     "data": {
      "image/png": "[encoded data removed]",
      "text/plain": [
       "<Figure size 432x288 with 1 Axes>"
      ]
     },
     "metadata": {
      "needs_background": "light"
     },
     "output_type": "display_data"
    }
   ],
   "source": [
    "sns.countplot(x=\"points\", data=df, color=\"mediumaquamarine\") \n",
    "plt.title('Original target variable distribution');"
   ]
  },
  {
   "cell_type": "markdown",
   "metadata": {},
   "source": [
    "**Numeric features**"
   ]
  },
  {
   "cell_type": "code",
   "execution_count": 21,
   "metadata": {},
   "outputs": [
    {
     "data": {
      "image/png": "[encoded data removed]",
      "text/plain": [
       "<Figure size 1800x360 with 2 Axes>"
      ]
     },
     "metadata": {
      "needs_background": "light"
     },
     "output_type": "display_data"
    }
   ],
   "source": [
    "df.hist(bins=30, figsize=(25, 5))\n",
    "plt.suptitle(\"Numeric feature distribution\", fontweight='bold', fontsize=15, y=0.92);"
   ]
  },
  {
   "cell_type": "code",
   "execution_count": 22,
   "metadata": {},
   "outputs": [
    {
     "name": "stdout",
     "output_type": "stream",
     "text": [
      "points: 41 outliers\n",
      "price: 0 outliers\n"
     ]
    }
   ],
   "source": [
    "numeric_cols = df.select_dtypes(exclude=['object'])\n",
    "for feature in numeric_cols:\n",
    "    q25, q75 = np.percentile(df[feature], 25), np.percentile(df[feature], 75)\n",
    "    iqr = q75 - q25\n",
    "    cutoff = iqr * 1.5\n",
    "    lower, upper = q25-cutoff, q75+cutoff\n",
    "    \n",
    "    outliers_idx = np.where((df[feature] < lower) | (df[feature] > upper)) \n",
    "    outliers = df.iloc[outliers_idx]\n",
    "    \n",
    "    print(f'{feature}: {len(outliers)} outliers')"
   ]
  },
  {
   "cell_type": "markdown",
   "metadata": {},
   "source": [
    "**Catagorical features**"
   ]
  },
  {
   "cell_type": "code",
   "execution_count": 165,
   "metadata": {},
   "outputs": [
    {
     "data": {
      "text/plain": [
       "<matplotlib.axes._subplots.AxesSubplot at 0x7f4364a29ed0>"
      ]
     },
     "execution_count": 165,
     "metadata": {},
     "output_type": "execute_result"
    },
    {
     "data": {
      "image/png": "[encoded data removed]",
      "text/plain": [
       "<Figure size 432x288 with 1 Axes>"
      ]
     },
     "metadata": {
      "needs_background": "light"
     },
     "output_type": "display_data"
    }
   ],
   "source": [
    "df['region_1'].value_counts().plot(kind='hist')"
   ]
  },
  {
   "cell_type": "markdown",
   "metadata": {},
   "source": [
    "## Multivariate Statistical Analysis"
   ]
  },
  {
   "cell_type": "markdown",
   "metadata": {},
   "source": [
    "### Correlation  between numerical features"
   ]
  },
  {
   "cell_type": "code",
   "execution_count": 167,
   "metadata": {},
   "outputs": [
    {
     "data": {
      "image/png": "[encoded data removed]",
      "text/plain": [
       "<Figure size 720x720 with 4 Axes>"
      ]
     },
     "metadata": {
      "needs_background": "light"
     },
     "output_type": "display_data"
    }
   ],
   "source": [
    "pd.plotting.scatter_matrix(df, figsize=(10, 10))\n",
    "plt.show()"
   ]
  },
  {
   "cell_type": "code",
   "execution_count": 168,
   "metadata": {},
   "outputs": [
    {
     "name": "stderr",
     "output_type": "stream",
     "text": [
      "/opt/conda/lib/python3.7/site-packages/ipykernel_launcher.py:6: DeprecationWarning: `np.bool` is a deprecated alias for the builtin `bool`. To silence this warning, use `bool` by itself. Doing this will not modify any behavior and is safe. If you specifically wanted the numpy scalar type, use `np.bool_` here.\n",
      "Deprecated in NumPy 1.20; for more details and guidance: https://numpy.org/devdocs/release/1.20.0-notes.html#deprecations\n",
      "  \n"
     ]
    },
    {
     "data": {
      "image/png": "[encoded data removed]",
      "text/plain": [
       "<Figure size 1080x720 with 2 Axes>"
      ]
     },
     "metadata": {
      "needs_background": "light"
     },
     "output_type": "display_data"
    }
   ],
   "source": [
    "plt.figure(figsize=(15,10))\n",
    "\n",
    "corr = df.corr(method=\"spearman\")\n",
    "\n",
    "# Mask for the upper triangle\n",
    "mask = np.triu(np.ones_like(corr, dtype=np.bool))\n",
    "\n",
    "# Generate diverging colormap\n",
    "cmap = sns.diverging_palette(220, 10, as_cmap=True)\n",
    "sns.heatmap(corr, mask=mask, cmap=cmap, center=0, annot=True, annot_kws={\"fontsize\":10},\n",
    "            fmt=\".1\", linewidths=2, cbar_kws={\"shrink\": 0.5})\n",
    "plt.title(\"Feature Spearman correlation\")\n",
    "plt.show()"
   ]
  },
  {
   "cell_type": "markdown",
   "metadata": {},
   "source": [
    "### Export data"
   ]
  },
  {
   "cell_type": "code",
   "execution_count": 169,
   "metadata": {},
   "outputs": [],
   "source": [
    "df.to_csv('/root/raw.csv', index=False)"
   ]
  },
  {
   "cell_type": "markdown",
   "metadata": {},
   "source": [
    "## Data Split"
   ]
  },
  {
   "cell_type": "code",
   "execution_count": 25,
   "metadata": {},
   "outputs": [],
   "source": [
    "# Move target to the end\n",
    "df[\"score\"] = df[\"points\"]\n",
    "df.drop(\"points\", axis=1, inplace=True)"
   ]
  },
  {
   "cell_type": "code",
   "execution_count": 26,
   "metadata": {},
   "outputs": [],
   "source": [
    "X, Y = df.iloc[:,:-1], df.iloc[:,-1]"
   ]
  },
  {
   "cell_type": "code",
   "execution_count": 27,
   "metadata": {},
   "outputs": [],
   "source": [
    "# Split data into train and test sets\n",
    "test_size = 0.2\n",
    "X_train, X_test, Y_train, Y_test = train_test_split(X, Y, test_size=test_size, random_state=seed)"
   ]
  },
  {
   "cell_type": "markdown",
   "metadata": {},
   "source": [
    "## Modeling: Experiments"
   ]
  },
  {
   "cell_type": "code",
   "execution_count": 174,
   "metadata": {},
   "outputs": [],
   "source": [
    "from sklearn.metrics import r2_score, mean_squared_error\n",
    "from sklearn.feature_extraction.text import TfidfVectorizer\n",
    "from sklearn.impute import SimpleImputer"
   ]
  },
  {
   "cell_type": "code",
   "execution_count": 80,
   "metadata": {},
   "outputs": [],
   "source": [
    "def get_pipeline(X_train):\n",
    "\n",
    "    numeric_cols = X_train.select_dtypes(exclude=[object]).columns\n",
    "    categorical_cols = list(X_train.select_dtypes(include=[object]).columns)\n",
    "    categorical_cols.remove('description')\n",
    "    text_cols = 'description'\n",
    "    \n",
    "    numeric_transformer = Pipeline(steps=[\n",
    "               ('MinMaxScaler', MinMaxScaler()),\n",
    "               ('StdScaler', StandardScaler()),\n",
    "               ('RobScaler', RobustScaler())])\n",
    "        \n",
    "    categorical_transformer = Pipeline(steps=[\n",
    "                ('Imputer', SimpleImputer(strategy='most_frequent')),\n",
    "                ('onehot', OneHotEncoder(handle_unknown = \"ignore\"))])\n",
    "\n",
    "    text_transformer = Pipeline(steps=[('TfIdfVectorizer', TfidfVectorizer())])\n",
    "        \n",
    "    feature_selector = [('SelFromModel', SelectFromModel(estimator=XGBClassifier())),\n",
    "                        ('SelKBest', SelectKBest()),\n",
    "                        (\"RFE\", RFE(XGBClassifier()))]\n",
    "    \n",
    "    models = [('XGBoost', XGBRegressor(n_jobs=-1))]\n",
    "    \n",
    "    #variants = [(i,j,k) for i in numeric_transformer for j in feature_selector for k in models] \n",
    "    variants = [(i,k) for i in numeric_transformer for k in models] \n",
    "\n",
    "    for variant in variants:\n",
    "        \n",
    "        #(num_transformer, selector, model) = variant\n",
    "        (num_transformer, model) = variant\n",
    "    \n",
    "        numeric_transformer.steps.append(['Imputer', SimpleImputer(strategy='mean')])\n",
    "\n",
    "        preprocessor = ColumnTransformer(n_jobs=-1,\n",
    "                                         transformers=[('num', num_transformer, numeric_cols),\n",
    "                                                       ('cat', categorical_transformer, categorical_cols),\n",
    "                                                       ('text', text_transformer, text_cols)])\n",
    "        pipe = Pipeline(steps=[('preprocessor', preprocessor),\n",
    "                      #   ('selector', selector[1]),\n",
    "                         ('regressor', model[1])],\n",
    "                       verbose=True)\n",
    "        #print(num_transformer, selector[0], model[0])  \n",
    "        print(num_transformer, model[0])           \n",
    "        \n",
    "       # yield pipe, num_transformer, selector[0], model[0]\n",
    "        yield pipe, num_transformer, model[0]"
   ]
  },
  {
   "cell_type": "code",
   "execution_count": 81,
   "metadata": {},
   "outputs": [],
   "source": [
    "def test_performance(Y_test, y_pred, df):\n",
    "    \n",
    "    df['test_rmse'] = mean_squared_error(Y_test, y_pred)\n",
    "    df['test_r2'] = r2_score(Y_test, y_pred)\n",
    "    \n",
    "    return df"
   ]
  },
  {
   "cell_type": "code",
   "execution_count": 84,
   "metadata": {},
   "outputs": [],
   "source": [
    "def run_experiments(X_train, Y_train, X_test, Y_test):\n",
    "\n",
    "    dfs = []\n",
    "    \n",
    "    #for (pipe, transformer, selector, model) in get_pipeline(X_train):\n",
    "    for (pipe, transformer, model) in get_pipeline(X_train):\n",
    "\n",
    "        # Train\n",
    "        print('Training...')\n",
    "        pipe.fit(X_train, Y_train)\n",
    "        \n",
    "        # Validate\n",
    "        print('Validation...')\n",
    "        cv_results = cross_validate(pipe, X_train, Y_train, cv=3, scoring='neg_root_mean_squared_error')\n",
    "        for k, v in cv_results.items():\n",
    "            cv_results[k] = [v.mean()]\n",
    "        \n",
    "        cv_results[\"val_rmse\"] = cv_results.pop(\"test_score\")\n",
    "        df = pd.DataFrame(cv_results)\n",
    "        df['model'] = model\n",
    "        \n",
    "        # Test\n",
    "        print('Running test...')\n",
    "        y_pred = pipe.predict(X_test)#[:, 1]\n",
    "        df = test_performance(Y_test, y_pred, df)\n",
    "        print('Performance:\\n', df)\n",
    "        dfs.append(df)        \n",
    "        \n",
    "        # Report performance\n",
    "       # print(f'{model} & {transformer} & {selector} \\\n",
    "       #         Mean val rmse: {cv_results[\"val_rmse\"][0]:.3f}, Test rmse: {df[\"test_rmse\"][0]:.3f}')\n",
    "        print(f'{model} & {transformer} \\\n",
    "                Mean val rmse: {cv_results[\"val_rmse\"][0]:.3f}, Test rmse: {df[\"test_rmse\"][0]:.3f}')\n",
    "    \n",
    "    # To dataframe \n",
    "    results_table = pd.concat(dfs, ignore_index=True)\n",
    "    results_table.sort_values(\"test_rmse\", inplace=True, ascending=False)\n",
    "    \n",
    "    return results_table, pipe"
   ]
  },
  {
   "cell_type": "code",
   "execution_count": 85,
   "metadata": {},
   "outputs": [
    {
     "name": "stdout",
     "output_type": "stream",
     "text": [
      "MinMaxScaler(copy=True, feature_range=(0, 1)) XGBoost\n",
      "Training...\n",
      "[Pipeline] ...... (step 1 of 2) Processing preprocessor, total=  45.3s\n",
      "[Pipeline] ......... (step 2 of 2) Processing regressor, total=  18.6s\n",
      "Validation...\n",
      "[Pipeline] ...... (step 1 of 2) Processing preprocessor, total=  57.0s\n",
      "[Pipeline] ...... (step 1 of 2) Processing preprocessor, total=  57.1s\n",
      "[Pipeline] ...... (step 1 of 2) Processing preprocessor, total=  57.1s\n",
      "[Pipeline] ......... (step 2 of 2) Processing regressor, total=  28.3s\n",
      "[Pipeline] ......... (step 2 of 2) Processing regressor, total=  28.4s\n",
      "[Pipeline] ......... (step 2 of 2) Processing regressor, total=  28.5s\n",
      "Running test...\n",
      "Performance:\n",
      "    fit_time  score_time  val_rmse    model  test_rmse  test_r2\n",
      "0     85.45        2.38     -1.66  XGBoost       2.71     0.71\n",
      "XGBoost & MinMaxScaler(copy=True, feature_range=(0, 1))                 Mean val rmse: -1.662, Test rmse: 2.712\n",
      "StandardScaler(copy=True, with_mean=True, with_std=True) XGBoost\n",
      "Training...\n",
      "[Pipeline] ...... (step 1 of 2) Processing preprocessor, total=  44.6s\n",
      "[Pipeline] ......... (step 2 of 2) Processing regressor, total=  18.1s\n",
      "Validation...\n",
      "[Pipeline] ...... (step 1 of 2) Processing preprocessor, total=  53.8s\n",
      "[Pipeline] ...... (step 1 of 2) Processing preprocessor, total=  53.8s\n",
      "[Pipeline] ...... (step 1 of 2) Processing preprocessor, total=  53.8s\n",
      "[Pipeline] ......... (step 2 of 2) Processing regressor, total=  28.3s\n",
      "[Pipeline] ......... (step 2 of 2) Processing regressor, total=  28.4s\n",
      "[Pipeline] ......... (step 2 of 2) Processing regressor, total=  28.6s\n",
      "Running test...\n",
      "Performance:\n",
      "    fit_time  score_time  val_rmse    model  test_rmse  test_r2\n",
      "0     82.25        2.25     -1.66  XGBoost       2.69     0.72\n",
      "XGBoost & StandardScaler(copy=True, with_mean=True, with_std=True)                 Mean val rmse: -1.663, Test rmse: 2.693\n",
      "RobustScaler(copy=True, quantile_range=(25.0, 75.0), with_centering=True,\n",
      "             with_scaling=True) XGBoost\n",
      "Training...\n",
      "[Pipeline] ...... (step 1 of 2) Processing preprocessor, total=  45.4s\n",
      "[Pipeline] ......... (step 2 of 2) Processing regressor, total=  18.3s\n",
      "Validation...\n",
      "[Pipeline] ...... (step 1 of 2) Processing preprocessor, total=  54.2s\n",
      "[Pipeline] ...... (step 1 of 2) Processing preprocessor, total=  54.2s\n",
      "[Pipeline] ...... (step 1 of 2) Processing preprocessor, total=  54.3s\n",
      "[Pipeline] ......... (step 2 of 2) Processing regressor, total=  28.2s\n",
      "[Pipeline] ......... (step 2 of 2) Processing regressor, total=  28.3s\n",
      "[Pipeline] ......... (step 2 of 2) Processing regressor, total=  28.3s\n",
      "Running test...\n",
      "Performance:\n",
      "    fit_time  score_time  val_rmse    model  test_rmse  test_r2\n",
      "0     82.53        2.38     -1.67  XGBoost       2.72     0.71\n",
      "XGBoost & RobustScaler(copy=True, quantile_range=(25.0, 75.0), with_centering=True,\n",
      "             with_scaling=True)                 Mean val rmse: -1.668, Test rmse: 2.722\n"
     ]
    },
    {
     "data": {
      "text/html": [
       "<div>\n",
       "<style scoped>\n",
       "    .dataframe tbody tr th:only-of-type {\n",
       "        vertical-align: middle;\n",
       "    }\n",
       "\n",
       "    .dataframe tbody tr th {\n",
       "        vertical-align: top;\n",
       "    }\n",
       "\n",
       "    .dataframe thead th {\n",
       "        text-align: right;\n",
       "    }\n",
       "</style>\n",
       "<table border=\"1\" class=\"dataframe\">\n",
       "  <thead>\n",
       "    <tr style=\"text-align: right;\">\n",
       "      <th></th>\n",
       "      <th>fit_time</th>\n",
       "      <th>score_time</th>\n",
       "      <th>val_rmse</th>\n",
       "      <th>model</th>\n",
       "      <th>test_rmse</th>\n",
       "      <th>test_r2</th>\n",
       "    </tr>\n",
       "  </thead>\n",
       "  <tbody>\n",
       "    <tr>\n",
       "      <th>2</th>\n",
       "      <td>82.53</td>\n",
       "      <td>2.38</td>\n",
       "      <td>-1.67</td>\n",
       "      <td>XGBoost</td>\n",
       "      <td>2.72</td>\n",
       "      <td>0.71</td>\n",
       "    </tr>\n",
       "    <tr>\n",
       "      <th>0</th>\n",
       "      <td>85.45</td>\n",
       "      <td>2.38</td>\n",
       "      <td>-1.66</td>\n",
       "      <td>XGBoost</td>\n",
       "      <td>2.71</td>\n",
       "      <td>0.71</td>\n",
       "    </tr>\n",
       "    <tr>\n",
       "      <th>1</th>\n",
       "      <td>82.25</td>\n",
       "      <td>2.25</td>\n",
       "      <td>-1.66</td>\n",
       "      <td>XGBoost</td>\n",
       "      <td>2.69</td>\n",
       "      <td>0.72</td>\n",
       "    </tr>\n",
       "  </tbody>\n",
       "</table>\n",
       "</div>"
      ],
      "text/plain": [
       "   fit_time  score_time  val_rmse    model  test_rmse  test_r2\n",
       "2     82.53        2.38     -1.67  XGBoost       2.72     0.71\n",
       "0     85.45        2.38     -1.66  XGBoost       2.71     0.71\n",
       "1     82.25        2.25     -1.66  XGBoost       2.69     0.72"
      ]
     },
     "execution_count": 85,
     "metadata": {},
     "output_type": "execute_result"
    }
   ],
   "source": [
    "from sklearn.externals.joblib import parallel_backend\n",
    "\n",
    "with parallel_backend('threading', n_jobs=-1):\n",
    "    \n",
    "    results, pipe  = run_experiments(X_train, Y_train, X_test, Y_test)\n",
    "\n",
    "results"
   ]
  },
  {
   "cell_type": "markdown",
   "metadata": {},
   "source": [
    "## Modelling: Final model"
   ]
  },
  {
   "cell_type": "code",
   "execution_count": 91,
   "metadata": {},
   "outputs": [],
   "source": [
    "from sklearn.model_selection import GridSearchCV"
   ]
  },
  {
   "cell_type": "code",
   "execution_count": 125,
   "metadata": {},
   "outputs": [
    {
     "name": "stdout",
     "output_type": "stream",
     "text": [
      "Fitting 2 folds for each of 6 candidates, totalling 12 fits\n"
     ]
    },
    {
     "name": "stderr",
     "output_type": "stream",
     "text": [
      "[Parallel(n_jobs=-1)]: Using backend ThreadingBackend with 16 concurrent workers.\n"
     ]
    },
    {
     "name": "stdout",
     "output_type": "stream",
     "text": [
      "[Pipeline] ...... (step 1 of 2) Processing preprocessor, total= 2.0min\n",
      "[Pipeline] ...... (step 1 of 2) Processing preprocessor, total= 2.0min\n",
      "[Pipeline] ...... (step 1 of 2) Processing preprocessor, total= 2.0min\n",
      "[Pipeline] ...... (step 1 of 2) Processing preprocessor, total= 2.0min\n",
      "[Pipeline] ...... (step 1 of 2) Processing preprocessor, total= 2.0min\n",
      "[Pipeline] ...... (step 1 of 2) Processing preprocessor, total= 2.0min\n",
      "[Pipeline] ...... (step 1 of 2) Processing preprocessor, total= 2.0min\n",
      "[Pipeline] ...... (step 1 of 2) Processing preprocessor, total= 2.0min\n",
      "[Pipeline] ...... (step 1 of 2) Processing preprocessor, total= 2.0min\n",
      "[Pipeline] ...... (step 1 of 2) Processing preprocessor, total= 2.0min\n",
      "[Pipeline] ...... (step 1 of 2) Processing preprocessor, total= 2.0min\n",
      "[Pipeline] ...... (step 1 of 2) Processing preprocessor, total= 2.0min\n",
      "[Pipeline] ......... (step 2 of 2) Processing regressor, total=  16.7s\n",
      "[Pipeline] ......... (step 2 of 2) Processing regressor, total=  16.7s\n",
      "[Pipeline] ......... (step 2 of 2) Processing regressor, total=  25.3s\n",
      "[Pipeline] ......... (step 2 of 2) Processing regressor, total=  26.1s\n",
      "[Pipeline] ......... (step 2 of 2) Processing regressor, total=  27.1s\n",
      "[Pipeline] ......... (step 2 of 2) Processing regressor, total=  29.0s\n",
      "[Pipeline] ......... (step 2 of 2) Processing regressor, total=  31.2s\n",
      "[Pipeline] ......... (step 2 of 2) Processing regressor, total=  31.5s\n",
      "[Pipeline] ......... (step 2 of 2) Processing regressor, total=  33.3s\n"
     ]
    },
    {
     "name": "stderr",
     "output_type": "stream",
     "text": [
      "[Parallel(n_jobs=-1)]: Done   7 out of  12 | elapsed:  2.6min remaining:  1.9min\n"
     ]
    },
    {
     "name": "stdout",
     "output_type": "stream",
     "text": [
      "[Pipeline] ......... (step 2 of 2) Processing regressor, total=  36.5s\n",
      "[Pipeline] ......... (step 2 of 2) Processing regressor, total=  37.3s\n",
      "[Pipeline] ......... (step 2 of 2) Processing regressor, total=  38.2s\n"
     ]
    },
    {
     "name": "stderr",
     "output_type": "stream",
     "text": [
      "[Parallel(n_jobs=-1)]: Done  12 out of  12 | elapsed:  2.7min finished\n"
     ]
    },
    {
     "name": "stdout",
     "output_type": "stream",
     "text": [
      "[Pipeline] ...... (step 1 of 2) Processing preprocessor, total=  42.6s\n",
      "[Pipeline] ......... (step 2 of 2) Processing regressor, total=  50.4s\n"
     ]
    }
   ],
   "source": [
    "with parallel_backend('threading', n_jobs=-1):\n",
    "    \n",
    "    numeric_cols = X_train.select_dtypes(exclude=[object]).columns\n",
    "    categorical_cols = list(X_train.select_dtypes(include=[object]).columns)\n",
    "    categorical_cols.remove('description')\n",
    "    text_cols = 'description'\n",
    "\n",
    "    numeric_transformer = Pipeline(steps=[\n",
    "               ('Imputer', SimpleImputer(strategy='mean')),\n",
    "               ('StdScaler', StandardScaler())])\n",
    "\n",
    "    categorical_transformer = Pipeline(steps=[\n",
    "                ('Imputer', SimpleImputer(strategy='most_frequent')),\n",
    "                ('onehot', OneHotEncoder(handle_unknown = \"ignore\"))])\n",
    "\n",
    "    text_transformer = Pipeline(steps=[('tfidf', TfidfVectorizer())])\n",
    "\n",
    "    feature_selector = [('SelFromModel', SelectFromModel(estimator=XGBClassifier())),\n",
    "                        ('SelKBest', SelectKBest()),\n",
    "                        (\"RFE\", RFE(XGBClassifier()))]\n",
    "\n",
    "    preprocessor = ColumnTransformer(n_jobs=-1,\n",
    "                                     transformers=[('num', numeric_transformer, numeric_cols),\n",
    "                                                           ('cat', categorical_transformer, categorical_cols),\n",
    "                                                           ('text', text_transformer, text_cols)])\n",
    "\n",
    "    pipe = Pipeline(steps=[('preprocessor', preprocessor),\n",
    "                     ('regressor', XGBRegressor(n_jobs=-1))],\n",
    "                   verbose=True)\n",
    "\n",
    "    parameters = {\n",
    "               #   'preprocessor__text__tfidf__ngram_range': [(1, 1), (1, 2)],\n",
    "              #    'preprocessor__text__tfidf__use_idf': (True, False),\n",
    "              #    'preprocessor__text__tfidf__max_df': [0.25, 0.5, 1.0],\n",
    "                  'preprocessor__text__tfidf__max_features': [10, 50, 250],\n",
    "                  'preprocessor__text__tfidf__stop_words': ('english', None),\n",
    "               #   'preprocessor__text__tfidf__smooth_idf': (True, False),\n",
    "               #   'preprocessor__text__tfidf__norm': ('l1', 'l2')\n",
    "                  }\n",
    "    \n",
    "    grid = GridSearchCV(pipe, parameters, cv=2, verbose=1)\n",
    "    grid.fit(X_train, Y_train)\n",
    "    \n",
    "    joblib.dump(grid.best_params_, 'params.json')\n",
    "    joblib.dump(grid.best_estimator_, 'model.pkl')"
   ]
  },
  {
   "cell_type": "code",
   "execution_count": 137,
   "metadata": {},
   "outputs": [
    {
     "data": {
      "text/plain": [
       "['model.pkl']"
      ]
     },
     "execution_count": 137,
     "metadata": {},
     "output_type": "execute_result"
    }
   ],
   "source": [
    "joblib.dump(grid.best_params_, 'params.json')\n",
    "joblib.dump(grid.best_estimator_, 'model.pkl')"
   ]
  },
  {
   "cell_type": "code",
   "execution_count": 140,
   "metadata": {},
   "outputs": [
    {
     "data": {
      "text/plain": [
       "(3.103855792118416, 0.6729365510328063)"
      ]
     },
     "execution_count": 140,
     "metadata": {},
     "output_type": "execute_result"
    }
   ],
   "source": [
    "model = joblib.load(\"model.pkl\")\n",
    "\n",
    "y_pred = model.predict(X_test)\n",
    "\n",
    "rmse = mean_squared_error(Y_test, y_pred)\n",
    "r2 = r2_score(Y_test, y_pred)\n",
    "\n",
    "rmse, r2"
   ]
  }
 ],
 "metadata": {
  "instance_type": "ml.t3.medium",
  "kernelspec": {
   "display_name": "Python 3",
   "language": "python",
   "name": "python3"
  },
  "language_info": {
   "codemirror_mode": {
    "name": "ipython",
    "version": 3
   },
   "file_extension": ".py",
   "mimetype": "text/x-python",
   "name": "python",
   "nbconvert_exporter": "python",
   "pygments_lexer": "ipython3",
   "version": "3.7.10"
  }
 },
 "nbformat": 4,
 "nbformat_minor": 4
}
